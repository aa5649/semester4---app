{
  "nbformat": 4,
  "nbformat_minor": 0,
  "metadata": {
    "colab": {
      "provenance": [],
      "authorship_tag": "ABX9TyOfje69sr6RoPSEnYn5qdvy",
      "include_colab_link": true
    },
    "kernelspec": {
      "name": "python3",
      "display_name": "Python 3"
    },
    "language_info": {
      "name": "python"
    }
  },
  "cells": [
    {
      "cell_type": "markdown",
      "metadata": {
        "id": "view-in-github",
        "colab_type": "text"
      },
      "source": [
        "<a href=\"https://colab.research.google.com/github/aa5649/semester4---app/blob/main/APP_Lab1_RA2111027010029_SET1.ipynb\" target=\"_parent\"><img src=\"https://colab.research.google.com/assets/colab-badge.svg\" alt=\"Open In Colab\"/></a>"
      ]
    },
    {
      "cell_type": "markdown",
      "source": [
        "#Q-1"
      ],
      "metadata": {
        "id": "Blytftrdy_v1"
      }
    },
    {
      "cell_type": "code",
      "execution_count": 1,
      "metadata": {
        "colab": {
          "base_uri": "https://localhost:8080/"
        },
        "id": "om_qDE9CyYxz",
        "outputId": "6424b220-e89c-421c-bf57-8ece9a2477d4"
      },
      "outputs": [
        {
          "output_type": "stream",
          "name": "stdout",
          "text": [
            "3     4       5\n",
            "Pythagorean triplets\n"
          ]
        }
      ],
      "source": [
        "a,b,c = map(int,input().split())\n",
        "if a*a + b*b + c*c - max(a,b,c)**2 == max(a,b,c)**2:\n",
        "  print(\"Pythagorean triplets\")\n",
        "else:\n",
        "  print(\"Not Pythagorean triplets\")"
      ]
    },
    {
      "cell_type": "markdown",
      "source": [
        "# Q-2"
      ],
      "metadata": {
        "id": "pXCp9rLezNr6"
      }
    },
    {
      "cell_type": "code",
      "source": [
        "people = [ ]\n",
        "name= input()\n",
        "names = []\n",
        "salaries = []\n",
        "while name!=\"End\":\n",
        "  a = dict() \n",
        "  a[name] = int(input())\n",
        "  names.append(name)\n",
        "  salaries.append(a[name])\n",
        "  name = input()\n",
        "print(\"Avg: \",sum(salaries)/len(salaries))\n",
        "\n",
        "\n",
        "#Print who gets the highest salary and the salary\n",
        "#Print who gets the lowest salary and the salary"
      ],
      "metadata": {
        "id": "VrODYFWuzPVr"
      },
      "execution_count": null,
      "outputs": []
    },
    {
      "cell_type": "markdown",
      "source": [
        "# Q-3"
      ],
      "metadata": {
        "id": "1EitLpWOzXTf"
      }
    },
    {
      "cell_type": "code",
      "source": [
        "for x in range(1,11):\n",
        "  print(x,'\\t',x**2,'\\t',x**3)\n",
        "  print( )"
      ],
      "metadata": {
        "colab": {
          "base_uri": "https://localhost:8080/"
        },
        "id": "UP2Noxo4zYs-",
        "outputId": "c5a9aac3-dc85-49dc-f829-a514f5f10441"
      },
      "execution_count": 2,
      "outputs": [
        {
          "output_type": "stream",
          "name": "stdout",
          "text": [
            "1 \t 1 \t 1\n",
            "\n",
            "2 \t 4 \t 8\n",
            "\n",
            "3 \t 9 \t 27\n",
            "\n",
            "4 \t 16 \t 64\n",
            "\n",
            "5 \t 25 \t 125\n",
            "\n",
            "6 \t 36 \t 216\n",
            "\n",
            "7 \t 49 \t 343\n",
            "\n",
            "8 \t 64 \t 512\n",
            "\n",
            "9 \t 81 \t 729\n",
            "\n",
            "10 \t 100 \t 1000\n",
            "\n"
          ]
        }
      ]
    }
  ]
}