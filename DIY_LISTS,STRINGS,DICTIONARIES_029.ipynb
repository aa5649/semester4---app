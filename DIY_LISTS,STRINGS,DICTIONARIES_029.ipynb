{
  "nbformat": 4,
  "nbformat_minor": 0,
  "metadata": {
    "colab": {
      "provenance": [],
      "authorship_tag": "ABX9TyPvQQTJ5ruKltk+dVBFuoeW",
      "include_colab_link": true
    },
    "kernelspec": {
      "name": "python3",
      "display_name": "Python 3"
    },
    "language_info": {
      "name": "python"
    }
  },
  "cells": [
    {
      "cell_type": "markdown",
      "metadata": {
        "id": "view-in-github",
        "colab_type": "text"
      },
      "source": [
        "<a href=\"https://colab.research.google.com/github/aa5649/semester4---app/blob/main/DIY_LISTS%2CSTRINGS%2CDICTIONARIES_029.ipynb\" target=\"_parent\"><img src=\"https://colab.research.google.com/assets/colab-badge.svg\" alt=\"Open In Colab\"/></a>"
      ]
    },
    {
      "cell_type": "markdown",
      "source": [
        "## LISTS"
      ],
      "metadata": {
        "id": "W4o5gRMwpcds"
      }
    },
    {
      "cell_type": "markdown",
      "source": [
        "Q1"
      ],
      "metadata": {
        "id": "1ydu33yinmjP"
      }
    },
    {
      "cell_type": "code",
      "execution_count": 4,
      "metadata": {
        "colab": {
          "base_uri": "https://localhost:8080/"
        },
        "id": "k-Sn0cXAmCGu",
        "outputId": "cc777725-e637-4a6a-a0e1-adf64fb1188d"
      },
      "outputs": [
        {
          "output_type": "stream",
          "name": "stdout",
          "text": [
            "24\n",
            "56\n",
            "35\n",
            "526\n",
            "1\n",
            "-1\n",
            "Second largest:  56\n"
          ]
        }
      ],
      "source": [
        "numbers = []\n",
        "n = int(input())\n",
        "while n!= -1:\n",
        "  numbers.append(n)\n",
        "  n = int(input())\n",
        "numbers.sort(reverse=True)\n",
        "print(\"Second largest: \",num784-bers[1])"
      ]
    },
    {
      "cell_type": "markdown",
      "source": [
        "Q2"
      ],
      "metadata": {
        "id": "RcVvTPWCnq2G"
      }
    },
    {
      "cell_type": "code",
      "source": [
        "N = list(map(int,input().split()))\n",
        "key = int(input())\n",
        "for i in range(0,key):\n",
        "  N.remove(N[i])\n",
        "print(N)"
      ],
      "metadata": {
        "colab": {
          "base_uri": "https://localhost:8080/"
        },
        "id": "aplK-RsQnIvh",
        "outputId": "4b54a46c-c213-45d1-f309-3492a2d6ae25"
      },
      "execution_count": 6,
      "outputs": [
        {
          "output_type": "stream",
          "name": "stdout",
          "text": [
            "2    4     78      653     125\n",
            "1\n",
            "[4, 78, 653, 125]\n"
          ]
        }
      ]
    },
    {
      "cell_type": "markdown",
      "source": [
        "Q3"
      ],
      "metadata": {
        "id": "0Wbu46j2n5px"
      }
    },
    {
      "cell_type": "code",
      "source": [
        "N = list(map(int,input().split()))\n",
        "P = set(N)\n",
        "P = list(P)\n",
        "print(P)"
      ],
      "metadata": {
        "colab": {
          "base_uri": "https://localhost:8080/"
        },
        "id": "5xC8iux_nsbT",
        "outputId": "90c524f3-af32-4e6a-ad8f-745acbdc0e6a"
      },
      "execution_count": 7,
      "outputs": [
        {
          "output_type": "stream",
          "name": "stdout",
          "text": [
            "2 4 5456 3351 2 2 2 2\n",
            "[5456, 2, 4, 3351]\n"
          ]
        }
      ]
    },
    {
      "cell_type": "markdown",
      "source": [
        "Q4 "
      ],
      "metadata": {
        "id": "08BxDt_PpOUi"
      }
    },
    {
      "cell_type": "code",
      "source": [
        "LIST = []\n",
        "n = int(input())     #No.of lists inside LISTS\n",
        "for i in range(n):\n",
        "  a = list()\n",
        "  p = int(input(\"No.of elements in list a: \"))\n",
        "  for j in range(p):\n",
        "    a.append(int(input()))\n",
        "  LIST.append(a)  \n",
        "\n",
        "print(LIST)              #Created such a list\n",
        "\n",
        "ans = [ ]\n",
        "for i in LIST:\n",
        "  for j in i:\n",
        "    ans.append(j)\n",
        "ans = list(set(ans))\n",
        "print(ans)\n"
      ],
      "metadata": {
        "colab": {
          "base_uri": "https://localhost:8080/"
        },
        "id": "cDESQdknn9vM",
        "outputId": "3e24b6a1-2427-4510-e272-8dd0dc12a3ed"
      },
      "execution_count": 10,
      "outputs": [
        {
          "output_type": "stream",
          "name": "stdout",
          "text": [
            "2\n",
            "No.of elements in list a: 3\n",
            "1 \n",
            "2\n",
            "3\n",
            "No.of elements in list a: 6\n",
            "9\n",
            "8\n",
            "7\n",
            "6\n",
            "5\n",
            "4\n",
            "[[1, 2, 3], [9, 8, 7, 6, 5, 4]]\n",
            "[1, 2, 3, 4, 5, 6, 7, 8, 9]\n"
          ]
        }
      ]
    },
    {
      "cell_type": "markdown",
      "source": [
        "## STRINGS"
      ],
      "metadata": {
        "id": "i9UFwPsvpf5S"
      }
    },
    {
      "cell_type": "markdown",
      "source": [
        "Q1"
      ],
      "metadata": {
        "id": "WIdWo56Dpjlh"
      }
    },
    {
      "cell_type": "code",
      "source": [
        "h = input()\n",
        "P = list(h.split())\n",
        "P.reverse()\n",
        "for i in P:\n",
        "  print(i,end = \" \")\n"
      ],
      "metadata": {
        "colab": {
          "base_uri": "https://localhost:8080/"
        },
        "id": "QX2cuv1dqIsn",
        "outputId": "40720cbf-64c5-438d-bca0-2634eb0ad14d"
      },
      "execution_count": 19,
      "outputs": [
        {
          "output_type": "stream",
          "name": "stdout",
          "text": [
            "Python is fun to learn\n",
            "learn to fun is Python "
          ]
        }
      ]
    },
    {
      "cell_type": "markdown",
      "source": [
        "Q2"
      ],
      "metadata": {
        "id": "LTXisNVXr2kf"
      }
    },
    {
      "cell_type": "code",
      "source": [
        "h = input()\n",
        "S = list(h.split())\n",
        "for i in S:\n",
        "  print(i[0].capitalize(),end=\"\")"
      ],
      "metadata": {
        "colab": {
          "base_uri": "https://localhost:8080/"
        },
        "id": "bMW5pifQr3jo",
        "outputId": "c2fcd493-08c2-4d7b-a15d-4ad4390d4c2e"
      },
      "execution_count": 22,
      "outputs": [
        {
          "output_type": "stream",
          "name": "stdout",
          "text": [
            "Hello world\n",
            "HW"
          ]
        }
      ]
    },
    {
      "cell_type": "markdown",
      "source": [
        "Q3"
      ],
      "metadata": {
        "id": "FHn9wfnZsb0p"
      }
    },
    {
      "cell_type": "markdown",
      "source": [
        "#DICTIONARIES"
      ],
      "metadata": {
        "id": "QjucubWCtm7F"
      }
    },
    {
      "cell_type": "markdown",
      "source": [
        "Q1"
      ],
      "metadata": {
        "id": "wxRaiDiltpGh"
      }
    },
    {
      "cell_type": "code",
      "source": [
        "grade = dict()\n",
        "n = int(input())\n",
        "for i in range(n):\n",
        "  p = input()\n",
        "  grade[p] = int(input())\n",
        "\n",
        "for i in grade.keys():\n",
        "  print(\"Name: {}\\nMarks: {}\".format(i,grade[i]))"
      ],
      "metadata": {
        "colab": {
          "base_uri": "https://localhost:8080/"
        },
        "id": "8WQgDaYKtp8p",
        "outputId": "6f95f05d-82f2-4b17-c221-2ec349bd6a58"
      },
      "execution_count": 30,
      "outputs": [
        {
          "output_type": "stream",
          "name": "stdout",
          "text": [
            "2\n",
            "Rosie\n",
            "26\n",
            "Perry\n",
            "30\n",
            "Name: Rosie\n",
            "Marks: 26\n",
            "Name: Perry\n",
            "Marks: 30\n"
          ]
        }
      ]
    },
    {
      "cell_type": "markdown",
      "source": [
        "Q2"
      ],
      "metadata": {
        "id": "TXW3DUA8uxqE"
      }
    },
    {
      "cell_type": "code",
      "source": [
        "h = input(\"Enter the string: \")\n",
        "p = dict()\n",
        "for i in list(h.split()):\n",
        "  p[i] = list(h.split()).count(str(i))\n",
        "print(p)"
      ],
      "metadata": {
        "colab": {
          "base_uri": "https://localhost:8080/"
        },
        "id": "JWZ6pdJLuyx3",
        "outputId": "a386e2e4-b17f-4d59-a5b9-a626e5ab0714"
      },
      "execution_count": 33,
      "outputs": [
        {
          "output_type": "stream",
          "name": "stdout",
          "text": [
            "Enter the string: how do you do ?\n",
            "{'how': 1, 'do': 2, 'you': 1, '?': 1}\n"
          ]
        }
      ]
    }
  ]
}